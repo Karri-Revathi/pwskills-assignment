{
 "cells": [
  {
   "cell_type": "code",
   "execution_count": 23,
   "id": "d2095673-1476-45e5-a381-90c6e48f0823",
   "metadata": {},
   "outputs": [
    {
     "name": "stdout",
     "output_type": "stream",
     "text": [
      "20 10\n"
     ]
    }
   ],
   "source": [
    "x,y=10,20\n",
    "y,x=x,y #swapping the numbers\n",
    "print(int(x),int(y))"
   ]
  },
  {
   "cell_type": "code",
   "execution_count": 22,
   "id": "207137d4-9d82-48d7-b29f-8aa1348ae7eb",
   "metadata": {},
   "outputs": [
    {
     "name": "stdin",
     "output_type": "stream",
     "text": [
      "enter length of the rectangle: 20\n",
      "enter breadth of the rectangle 10\n"
     ]
    },
    {
     "name": "stdout",
     "output_type": "stream",
     "text": [
      "Area of rectangle: 200\n"
     ]
    }
   ],
   "source": [
    "l=int(input(\"enter length of the rectangle:\"))\n",
    "b=int(input(\"enter breadth of the rectangle\"))\n",
    "area=l*b #area of a rectangle\n",
    "print(\"Area of rectangle:\",int(area))"
   ]
  },
  {
   "cell_type": "code",
   "execution_count": 21,
   "id": "a7840f6c-a60d-4c8f-b74c-067d698df40b",
   "metadata": {},
   "outputs": [
    {
     "name": "stdin",
     "output_type": "stream",
     "text": [
      "enter the temperature in celsius: 20\n"
     ]
    },
    {
     "name": "stdout",
     "output_type": "stream",
     "text": [
      "Temperture in fahrenheit: 68.0\n"
     ]
    }
   ],
   "source": [
    "celsius=int(input(\"enter the temperature in celsius:\"))\n",
    "f=((celsius/5)*9)+32 #converting celsuis to fahrenheit\n",
    "print(\"Temperture in fahrenheit:\",float(f))"
   ]
  },
  {
   "cell_type": "code",
   "execution_count": 20,
   "id": "0a08d365-c7fd-4dd1-9097-39edbca0ae42",
   "metadata": {},
   "outputs": [
    {
     "name": "stdin",
     "output_type": "stream",
     "text": [
      "enter a string: revathi\n"
     ]
    },
    {
     "name": "stdout",
     "output_type": "stream",
     "text": [
      "Length of the string: 7\n"
     ]
    }
   ],
   "source": [
    "string=input(\"enter a string:\")\n",
    "length=len(string) #length of a string\n",
    "print(\"Length of the string:\",length)"
   ]
  },
  {
   "cell_type": "code",
   "execution_count": 19,
   "id": "471b70df-02fe-438a-9a94-26b9be40fbf9",
   "metadata": {},
   "outputs": [
    {
     "name": "stdin",
     "output_type": "stream",
     "text": [
      "enter a string: I Like Python\n"
     ]
    },
    {
     "name": "stdout",
     "output_type": "stream",
     "text": [
      "Count of vowels: 4\n"
     ]
    }
   ],
   "source": [
    "string=input(\"enter a string:\")\n",
    "l=['a','e','i','o','u']\n",
    "lower=string.lower()\n",
    "count=0\n",
    "for i in lower:\n",
    "    if i in l:\n",
    "        count+=1 #number of vowels in a string\n",
    "print(\"Count of vowels:\",int(count))"
   ]
  },
  {
   "cell_type": "code",
   "execution_count": 18,
   "id": "ba238a8b-9e90-413b-b3d2-13e008a42f61",
   "metadata": {},
   "outputs": [
    {
     "name": "stdin",
     "output_type": "stream",
     "text": [
      "enter a string: revathi\n"
     ]
    },
    {
     "name": "stdout",
     "output_type": "stream",
     "text": [
      "reversed string: ihtaver\n"
     ]
    }
   ],
   "source": [
    "string=input(\"enter a string:\")\n",
    "str=string[::-1] #reversing a string\n",
    "print(\"reversed string:\",str)"
   ]
  },
  {
   "cell_type": "code",
   "execution_count": 17,
   "id": "261ec3c8-2623-4977-ac54-622f17ecdb50",
   "metadata": {},
   "outputs": [
    {
     "name": "stdin",
     "output_type": "stream",
     "text": [
      "enter a string: malayalam\n"
     ]
    },
    {
     "name": "stdout",
     "output_type": "stream",
     "text": [
      "malayalam is a pallindrome\n"
     ]
    }
   ],
   "source": [
    "string=input(\"enter a string:\")\n",
    "str=string[::-1]\n",
    "if string==str: #checking for pallindrome\n",
    "    print(string,\"is a pallindrome\")\n",
    "else:\n",
    "    print(string,\"is not a pallindrome\")"
   ]
  },
  {
   "cell_type": "code",
   "execution_count": 16,
   "id": "905f8a1a-c642-4713-a253-fe64248287a6",
   "metadata": {},
   "outputs": [
    {
     "name": "stdin",
     "output_type": "stream",
     "text": [
      "enter a string: py th on\n"
     ]
    },
    {
     "name": "stdout",
     "output_type": "stream",
     "text": [
      "python\n"
     ]
    }
   ],
   "source": [
    "string=input(\"enter a string:\")\n",
    "str=string.replace(\" \",\"\") #removing the spaces in a string\n",
    "print(str)"
   ]
  },
  {
   "cell_type": "code",
   "execution_count": null,
   "id": "cfffe421-e6b6-409e-96ee-77eeb99f4f29",
   "metadata": {},
   "outputs": [],
   "source": []
  }
 ],
 "metadata": {
  "kernelspec": {
   "display_name": "Python 3 (ipykernel)",
   "language": "python",
   "name": "python3"
  },
  "language_info": {
   "codemirror_mode": {
    "name": "ipython",
    "version": 3
   },
   "file_extension": ".py",
   "mimetype": "text/x-python",
   "name": "python",
   "nbconvert_exporter": "python",
   "pygments_lexer": "ipython3",
   "version": "3.10.8"
  }
 },
 "nbformat": 4,
 "nbformat_minor": 5
}
